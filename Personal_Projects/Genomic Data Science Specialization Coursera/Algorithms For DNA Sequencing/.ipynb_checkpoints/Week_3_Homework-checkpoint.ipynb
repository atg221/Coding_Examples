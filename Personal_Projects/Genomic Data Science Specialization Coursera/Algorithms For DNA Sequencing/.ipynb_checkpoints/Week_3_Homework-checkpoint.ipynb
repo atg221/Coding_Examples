{
 "cells": [
  {
   "cell_type": "code",
   "execution_count": 1,
   "id": "4dfb4886",
   "metadata": {},
   "outputs": [],
   "source": [
    "def editDistance(x, y):\n",
    "    # Create distance matrix\n",
    "    D = []\n",
    "    for i in range(len(x)+1):\n",
    "        D.append([0]*(len(y)+1))\n",
    "    # Initialize first row and column of matrix\n",
    "    for i in range(len(x)+1):\n",
    "        D[i][0] = i\n",
    "    for i in range(len(y)+1):\n",
    "        D[0][i] = i\n",
    "    # Fill in the rest of the matrix\n",
    "    for i in range(1, len(x)+1):\n",
    "        for j in range(1, len(y)+1):\n",
    "            distHor = D[i][j-1] + 1\n",
    "            distVer = D[i-1][j] + 1\n",
    "            if x[i-1] == y[j-1]:\n",
    "                distDiag = D[i-1][j-1]\n",
    "            else:\n",
    "                distDiag = D[i-1][j-1] + 1\n",
    "            D[i][j] = min(distHor, distVer, distDiag)\n",
    "    # Edit distance is the value in the bottom right corner of the matrix\n",
    "    return D[-1][-1]"
   ]
  },
  {
   "cell_type": "code",
   "execution_count": 3,
   "id": "6d522e12",
   "metadata": {},
   "outputs": [],
   "source": [
    "def readGenome(filename):\n",
    "    genome = ''\n",
    "    with open(filename, 'r') as f:\n",
    "        for line in f:\n",
    "            # ignore header line with genome information\n",
    "            if not line[0] == '>':\n",
    "                genome += line.rstrip()\n",
    "    return genome\n",
    "\n"
   ]
  },
  {
   "cell_type": "code",
   "execution_count": 5,
   "id": "dba7fe1b",
   "metadata": {},
   "outputs": [
    {
     "name": "stdout",
     "output_type": "stream",
     "text": [
      "799984\n"
     ]
    }
   ],
   "source": [
    "genome = '/home/dg/Documents/Genomic Data Science Specialization Coursers/Algorithms For DNA Sequencing/Sequences/chr1.GRCh38.excerpt.fasta'\n",
    "\n",
    "\n",
    "t = readGenome(genome)\n",
    "\n",
    "# Question1\n",
    "p = 'GCTGATCGATCGTACG'\n",
    "print(editDistance(t, p))\n",
    "\n"
   ]
  },
  {
   "cell_type": "code",
   "execution_count": 6,
   "id": "27718878",
   "metadata": {},
   "outputs": [
    {
     "name": "stdout",
     "output_type": "stream",
     "text": [
      "799984\n"
     ]
    }
   ],
   "source": [
    "# Question2\n",
    "p = 'GATTTACCAGATTGAG'\n",
    "print(editDistance(t, p))"
   ]
  },
  {
   "cell_type": "code",
   "execution_count": 8,
   "id": "aa5f4fff",
   "metadata": {},
   "outputs": [],
   "source": [
    "def readFastq(filename):\n",
    "    sequences = []\n",
    "    qualities = []\n",
    "    with open(filename) as fh:\n",
    "        while True:\n",
    "            fh.readline()  # skip name line\n",
    "            seq = fh.readline().rstrip()  # read base sequence\n",
    "            fh.readline()  # skip placeholder line\n",
    "            qual = fh.readline().rstrip() # base quality line\n",
    "            if len(seq) == 0:\n",
    "                break\n",
    "            sequences.append(seq)\n",
    "            qualities.append(qual)\n",
    "    return sequences, qualities\n",
    "\n",
    "\n",
    "def overlap(a, b, min_length=3):\n",
    "    \"\"\" Return length of longest suffix of 'a' matching\n",
    "        a prefix of 'b' that is at least 'min_length'\n",
    "        characters long.  If no such overlap exists,\n",
    "        return 0. \"\"\"\n",
    "    start = 0  # start all the way at the left\n",
    "    while True:\n",
    "        start = a.find(b[:min_length], start)  # look for b's prefix in a\n",
    "        if start == -1:  # no more occurrences to right\n",
    "            return 0\n",
    "        # found occurrence; check for full suffix/prefix match\n",
    "        if b.startswith(a[start:]):\n",
    "            return len(a)-start\n",
    "        start += 1  # move just past previous match\n",
    "\n",
    "\n",
    "def smart_overlap_map(reads, k):\n",
    "    olaps = {}\n",
    "    result = {}\n",
    "    for read in reads:\n",
    "        for i in range(len(read)-k+1):\n",
    "            if read[i:i+k] not in olaps:\n",
    "                olaps[read[i:i+k]] = [read]\n",
    "            else:\n",
    "                olaps[read[i:i+k]].append(read)\n",
    "\n",
    "    count = 0\n",
    "    for read in reads:\n",
    "        read_suffix = read[-k:]\n",
    "        for possible_read in olaps[read_suffix]:\n",
    "            if possible_read != read:\n",
    "                olen = overlap(read, possible_read, k)\n",
    "                if olen > 0:\n",
    "                    count += 1\n",
    "                    result[(read, possible_read)] = olen\n",
    "\n",
    "    return result, count\n"
   ]
  },
  {
   "cell_type": "code",
   "execution_count": 9,
   "id": "6dd1bbaa",
   "metadata": {},
   "outputs": [
    {
     "name": "stdout",
     "output_type": "stream",
     "text": [
      "Number of pairs of reads overlap: 904746\n"
     ]
    }
   ],
   "source": [
    "reads_file = '/home/dg/Documents/Genomic Data Science Specialization Coursers/Algorithms For DNA Sequencing/Sequences/ERR266411_1.for_asm.fastq'\n",
    "reads, _ = readFastq(reads_file)\n",
    "pairs_olen, pairs_count = smart_overlap_map(reads, 30)\n",
    "\n",
    "# Question 3\n",
    "print(\"Number of pairs of reads overlap:\", pairs_count)\n",
    "\n"
   ]
  },
  {
   "cell_type": "code",
   "execution_count": 10,
   "id": "3e8c2769",
   "metadata": {},
   "outputs": [
    {
     "name": "stdout",
     "output_type": "stream",
     "text": [
      "Number of reads have a suffix involved in an overlap: 7161\n"
     ]
    }
   ],
   "source": [
    "# Question 4\n",
    "reads_involved = []\n",
    "for key, value in pairs_olen:\n",
    "    reads_involved.append(key)\n",
    "print(\"Number of reads have a suffix involved in an overlap:\", len(set(reads_involved)))"
   ]
  },
  {
   "cell_type": "code",
   "execution_count": null,
   "id": "29069d3f",
   "metadata": {},
   "outputs": [],
   "source": []
  },
  {
   "cell_type": "code",
   "execution_count": null,
   "id": "9608daf9",
   "metadata": {},
   "outputs": [],
   "source": []
  }
 ],
 "metadata": {
  "kernelspec": {
   "display_name": "Python 3 (ipykernel)",
   "language": "python",
   "name": "python3"
  },
  "language_info": {
   "codemirror_mode": {
    "name": "ipython",
    "version": 3
   },
   "file_extension": ".py",
   "mimetype": "text/x-python",
   "name": "python",
   "nbconvert_exporter": "python",
   "pygments_lexer": "ipython3",
   "version": "3.9.16"
  }
 },
 "nbformat": 4,
 "nbformat_minor": 5
}
