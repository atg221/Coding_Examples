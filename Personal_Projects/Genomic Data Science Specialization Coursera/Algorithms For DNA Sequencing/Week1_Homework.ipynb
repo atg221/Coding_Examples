{
 "cells": [
  {
   "cell_type": "code",
   "execution_count": 58,
   "id": "6036fe3c",
   "metadata": {},
   "outputs": [],
   "source": [
    "import os\n",
    "import matplotlib.pyplot as plt"
   ]
  },
  {
   "cell_type": "code",
   "execution_count": 3,
   "id": "1afa7dfc",
   "metadata": {},
   "outputs": [],
   "source": [
    "#read in genome\n",
    "def readGenome(filename):\n",
    "    genome = ''\n",
    "    with open(filename, 'r') as f:\n",
    "        for line in f:\n",
    "            #ignore header line with genome info\n",
    "            if not line[0] == '>':\n",
    "                genome += line.rstrip()\n",
    "    return genome"
   ]
  },
  {
   "cell_type": "code",
   "execution_count": 4,
   "id": "c4457493",
   "metadata": {},
   "outputs": [],
   "source": [
    "#create the reverse compiment string\n",
    "\n",
    "def reverseCompliment(s):\n",
    "    complement = {'A' : 'T', 'C' : 'G', 'G' : 'C', 'T' : 'A', 'N' : 'N'}\n",
    "    t = ''\n",
    "    for base in s:\n",
    "        t = complement[base] + t #adding complement[base] first makes it go in reverse\n",
    "    return t"
   ]
  },
  {
   "cell_type": "code",
   "execution_count": 5,
   "id": "fb9f70d0",
   "metadata": {},
   "outputs": [],
   "source": [
    "#naive exact matching algorithm\n",
    "def naive(p, t):\n",
    "    '''p = pattern, t = text; p = read, t = genome'''\n",
    "    occurences = []\n",
    "    for i in range(len(t)- len(p) + 1):\n",
    "        match = True\n",
    "        for j in range(len(p)):\n",
    "            if not t[i+j] == p[j]:\n",
    "                match = False\n",
    "                break\n",
    "        if match:\n",
    "            occurences.append(i)\n",
    "    return occurences"
   ]
  },
  {
   "cell_type": "code",
   "execution_count": null,
   "id": "92f1b67a",
   "metadata": {},
   "outputs": [],
   "source": []
  },
  {
   "cell_type": "code",
   "execution_count": 8,
   "id": "0593cf5f",
   "metadata": {},
   "outputs": [],
   "source": [
    "lambda_virus = readGenome('/home/dg/Documents/Genomic Data Science Specialization Coursers/Algorithms For DNA Sequencing/Sequences/lambda_virus.fa')"
   ]
  },
  {
   "cell_type": "code",
   "execution_count": 11,
   "id": "daf196a0",
   "metadata": {},
   "outputs": [
    {
     "name": "stdout",
     "output_type": "stream",
     "text": [
      "GGGCG 48502\n"
     ]
    }
   ],
   "source": [
    "print(lambda_virus[:5], len(lambda_virus))"
   ]
  },
  {
   "cell_type": "code",
   "execution_count": 27,
   "id": "7bf27114",
   "metadata": {},
   "outputs": [
    {
     "name": "stdout",
     "output_type": "stream",
     "text": [
      "150 positive and 156 reverse strand matches\n"
     ]
    }
   ],
   "source": [
    "#question 1\n",
    "numMatched = 0\n",
    "matches = naive('AGGT', lambda_virus)\n",
    "matches_reverse = naive(reverseCompliment('AGGT'), lambda_virus) #adds in reverse compliment of teh read to search on the reference as well\n",
    "\n",
    "print('%s positive and %s reverse strand matches' % (len(matches), len(matches_reverse)))"
   ]
  },
  {
   "cell_type": "code",
   "execution_count": 28,
   "id": "2456d86a",
   "metadata": {},
   "outputs": [
    {
     "name": "stdout",
     "output_type": "stream",
     "text": [
      "195 positive and 195 reverse strand matches\n"
     ]
    }
   ],
   "source": [
    "#question 2\n",
    "numMatched = 0\n",
    "matches = naive('TTAA', lambda_virus)\n",
    "matches_reverse = naive(reverseCompliment('TTAA'), lambda_virus) #adds in reverse compliment of teh read to search on the reference as well\n",
    "\n",
    "print('%s positive and %s reverse strand matches' % (len(matches), len(matches_reverse)))"
   ]
  },
  {
   "cell_type": "code",
   "execution_count": 31,
   "id": "cdb87fe8",
   "metadata": {},
   "outputs": [
    {
     "name": "stdout",
     "output_type": "stream",
     "text": [
      "27733 26028\n"
     ]
    }
   ],
   "source": [
    "#question 3\n",
    "numMatched = 0\n",
    "matches = naive('ACTAAGT', lambda_virus)\n",
    "matches_reverse = naive(reverseCompliment('ACTAAGT'), lambda_virus) #adds in reverse compliment of teh read to search on the reference as well\n",
    "\n",
    "print(matches[0], matches_reverse[0])"
   ]
  },
  {
   "cell_type": "code",
   "execution_count": 32,
   "id": "5b98661e",
   "metadata": {},
   "outputs": [
    {
     "data": {
      "text/plain": [
       "[26028]"
      ]
     },
     "execution_count": 32,
     "metadata": {},
     "output_type": "execute_result"
    }
   ],
   "source": [
    "matches_reverse"
   ]
  },
  {
   "cell_type": "code",
   "execution_count": 33,
   "id": "81560b1e",
   "metadata": {},
   "outputs": [
    {
     "data": {
      "text/plain": [
       "[27733, 45382]"
      ]
     },
     "execution_count": 33,
     "metadata": {},
     "output_type": "execute_result"
    }
   ],
   "source": [
    "matches"
   ]
  },
  {
   "cell_type": "code",
   "execution_count": 34,
   "id": "e6ac5b89",
   "metadata": {},
   "outputs": [
    {
     "name": "stdout",
     "output_type": "stream",
     "text": [
      "18005 450\n"
     ]
    }
   ],
   "source": [
    "#question 4\n",
    "numMatched = 0\n",
    "matches = naive('AGTCGA', lambda_virus)\n",
    "matches_reverse = naive(reverseCompliment('AGTCGA'), lambda_virus) #adds in reverse compliment of teh read to search on the reference as well\n",
    "\n",
    "print(matches[0], matches_reverse[0])"
   ]
  },
  {
   "cell_type": "code",
   "execution_count": 39,
   "id": "7193ae8f",
   "metadata": {},
   "outputs": [],
   "source": [
    "#Question 5\n",
    "def naive2mm(p, t): #allows for 2 mismatches to occur\n",
    "    '''p = pattern, t = text; p = read, t = genome'''\n",
    "    occurrences = []\n",
    "    for i in range(len(t) - len(p) + 1):  # loop over alignments\n",
    "        count_mismatch = 0\n",
    "        for j in range(len(p)):  # loop over characters\n",
    "            if t[i+j] != p[j]:  # compare characters\n",
    "                count_mismatch += 1\n",
    "        if count_mismatch <= 2:\n",
    "            occurrences.append(i)  # all chars matched; record\n",
    "    return occurrences"
   ]
  },
  {
   "cell_type": "code",
   "execution_count": 41,
   "id": "ebc0c397",
   "metadata": {},
   "outputs": [
    {
     "name": "stdout",
     "output_type": "stream",
     "text": [
      "191\n"
     ]
    }
   ],
   "source": [
    "matches = naive2mm('TTCAAGCC', lambda_virus)\n",
    "print(len(matches))"
   ]
  },
  {
   "cell_type": "code",
   "execution_count": 44,
   "id": "dc1ff009",
   "metadata": {},
   "outputs": [
    {
     "name": "stdout",
     "output_type": "stream",
     "text": [
      "49\n"
     ]
    }
   ],
   "source": [
    "#Question 6\n",
    "matches = naive2mm('AGGAGGTT', lambda_virus)\n",
    "print(matches[0])"
   ]
  },
  {
   "cell_type": "code",
   "execution_count": 56,
   "id": "77a1e78c",
   "metadata": {},
   "outputs": [],
   "source": [
    "\n",
    "def readFastq(filename):\n",
    "    sequences = []\n",
    "    qualities = []\n",
    "    with open(filename) as fh:\n",
    "        while True:\n",
    "            fh.readline() # skip name line\n",
    "            seq = fh.readline().rstrip() #read base sequence\n",
    "            fh.readline() # skip placeholder line\n",
    "            qual = fh.readline().rstrip() #base quality line\n",
    "            if len(seq) == 0:\n",
    "                break\n",
    "            sequences.append(seq)\n",
    "            qualities.append(qual)\n",
    "    return sequences, qualities\n",
    "\n",
    "def phred33ToQ(qual):\n",
    "    return ord(qual) - 33\n",
    "\n",
    "\n",
    "def createHist(qualities):\n",
    "    # Create a histogram of quality scores\n",
    "    hist = [0]*len(qualities[0])\n",
    "    for qual in qualities:\n",
    "        for i in range(len(qual)):\n",
    "            q = phred33ToQ(qual[i])\n",
    "            hist[i] += q\n",
    "    return hist\n",
    "\n"
   ]
  },
  {
   "cell_type": "code",
   "execution_count": 59,
   "id": "012a9b30",
   "metadata": {},
   "outputs": [
    {
     "data": {
      "image/png": "[encoded data removed]",
      "text/plain": [
       "<Figure size 640x480 with 1 Axes>"
      ]
     },
     "metadata": {},
     "output_type": "display_data"
    }
   ],
   "source": [
    "#Question 7\n",
    "%matplotlib inline\n",
    "_, quals = readFastq('/home/dg/Documents/Genomic Data Science Specialization Coursers/Algorithms For DNA Sequencing/Sequences/ERR037900_1.first1000.fastq')\n",
    "qual_hist = createHist(quals)\n",
    "plt.plot(range(len(qual_hist)), qual_hist)\n",
    "plt.show()"
   ]
  },
  {
   "cell_type": "code",
   "execution_count": 62,
   "id": "c114a817",
   "metadata": {},
   "outputs": [
    {
     "name": "stdout",
     "output_type": "stream",
     "text": [
      "4526 66\n"
     ]
    }
   ],
   "source": [
    "#get the minimum number of quality reads and the location of the minimum\n",
    "print(min(qual_hist), qual_hist.index(min(qual_hist)))"
   ]
  },
  {
   "cell_type": "code",
   "execution_count": null,
   "id": "a2ea44ea",
   "metadata": {},
   "outputs": [],
   "source": []
  }
 ],
 "metadata": {
  "kernelspec": {
   "display_name": "Python 3 (ipykernel)",
   "language": "python",
   "name": "python3"
  },
  "language_info": {
   "codemirror_mode": {
    "name": "ipython",
    "version": 3
   },
   "file_extension": ".py",
   "mimetype": "text/x-python",
   "name": "python",
   "nbconvert_exporter": "python",
   "pygments_lexer": "ipython3",
   "version": "3.9.16"
  }
 },
 "nbformat": 4,
 "nbformat_minor": 5
}
